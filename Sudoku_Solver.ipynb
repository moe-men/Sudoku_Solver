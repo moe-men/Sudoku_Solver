{
 "cells": [
  {
   "cell_type": "markdown",
   "metadata": {},
   "source": [
    "# Sudoku solver with python\n",
    "This is a sudoku solver project that uses a backtracking Algorithm."
   ]
  },
  {
   "cell_type": "code",
   "execution_count": 6,
   "metadata": {},
   "outputs": [],
   "source": [
    "\n",
    "board_orig = [\n",
    "    [7,8,0,4,0,0,1,2,0],\n",
    "    [6,0,0,0,7,5,0,0,9],\n",
    "    [0,0,0,6,0,1,0,7,8],\n",
    "    [0,0,7,0,4,0,2,6,0],\n",
    "    [0,0,1,0,5,0,9,3,0],\n",
    "    [9,0,4,0,6,0,0,0,5],\n",
    "    [0,7,0,3,0,0,0,1,2],\n",
    "    [1,2,0,0,0,7,4,0,0],\n",
    "    [0,4,9,2,0,6,0,0,7]\n",
    "]\n",
    "board = board_orig"
   ]
  },
  {
   "cell_type": "markdown",
   "metadata": {},
   "source": [
    "## display_board\n",
    "this function is to display the board properly."
   ]
  },
  {
   "cell_type": "code",
   "execution_count": 7,
   "metadata": {},
   "outputs": [],
   "source": [
    "def display_board(bo) :\n",
    "    for i in range (len(bo)):\n",
    "        if i%3 == 0 and i!=0:\n",
    "            print(\"- - -  - - -  - - -\")\n",
    "        for j in range (len(bo[0])) :\n",
    "            if j%3 == 0 and j!= 0 :\n",
    "                print(\"|\", end=\"\")\n",
    "            if j == 8 :\n",
    "                print(bo[i][j])\n",
    "            else :\n",
    "                print(str(bo[i][j]) + \" \", end=\"\")         "
   ]
  },
  {
   "cell_type": "markdown",
   "metadata": {},
   "source": [
    "## find_empty\n",
    "this function finds an empty box and return its coordinates."
   ]
  },
  {
   "cell_type": "code",
   "execution_count": 8,
   "metadata": {},
   "outputs": [],
   "source": [
    "def find_empty(bo) :\n",
    "    for i in range(len(bo)):\n",
    "        for j in range(len(bo)) :\n",
    "            if bo[i][j] == 0:\n",
    "                return(i,j)\n",
    "    return None"
   ]
  },
  {
   "cell_type": "markdown",
   "metadata": {},
   "source": [
    "## valid \n",
    "this function returns True if the num \" elt \" that the algorithm have put is valid , else returns False."
   ]
  },
  {
   "cell_type": "code",
   "execution_count": 9,
   "metadata": {},
   "outputs": [],
   "source": [
    "def valid(bo,elt,find) :\n",
    "    elt_row,elt_col = find\n",
    "    for col in range(len(bo[0])):\n",
    "        if bo[elt_row][col] == elt :\n",
    "            return False \n",
    "    for row in range(len(bo)) :\n",
    "        if bo[row][elt_col] == elt :\n",
    "            return False \n",
    "    x0 = (elt_col//3)*3\n",
    "    y0 = (elt_row//3)*3\n",
    "    for row in range(y0,y0+3) :\n",
    "        for col in range(x0,x0+3) :\n",
    "            if bo[row][col] == elt :\n",
    "                return False \n",
    "    return True"
   ]
  },
  {
   "cell_type": "markdown",
   "metadata": {},
   "source": [
    "## solve \n",
    "this is a recursive function."
   ]
  },
  {
   "cell_type": "code",
   "execution_count": 10,
   "metadata": {},
   "outputs": [],
   "source": [
    "def solve(bo):\n",
    "    find = find_empty(bo)\n",
    "    if not find :\n",
    "        return True\n",
    "    else :\n",
    "        row,col =find\n",
    "    for i in range(1,10) :\n",
    "        if valid(bo,i,(row,col)) :\n",
    "            bo[row][col] = i\n",
    "            if solve(bo):\n",
    "                return True\n",
    "            bo[row][col] = 0\n",
    "    return False"
   ]
  },
  {
   "cell_type": "markdown",
   "metadata": {},
   "source": [
    "## Test \n"
   ]
  },
  {
   "cell_type": "code",
   "execution_count": 11,
   "metadata": {},
   "outputs": [
    {
     "name": "stdout",
     "output_type": "stream",
     "text": [
      "7 8 0 |4 0 0 |1 2 0\n",
      "6 0 0 |0 7 5 |0 0 9\n",
      "0 0 0 |6 0 1 |0 7 8\n",
      "- - -  - - -  - - -\n",
      "0 0 7 |0 4 0 |2 6 0\n",
      "0 0 1 |0 5 0 |9 3 0\n",
      "9 0 4 |0 6 0 |0 0 5\n",
      "- - -  - - -  - - -\n",
      "0 7 0 |3 0 0 |0 1 2\n",
      "1 2 0 |0 0 7 |4 0 0\n",
      "0 4 9 |2 0 6 |0 0 7\n",
      "\n",
      "\n",
      "\n",
      "7 8 5 |4 3 9 |1 2 6\n",
      "6 1 2 |8 7 5 |3 4 9\n",
      "4 9 3 |6 2 1 |5 7 8\n",
      "- - -  - - -  - - -\n",
      "8 5 7 |9 4 3 |2 6 1\n",
      "2 6 1 |7 5 8 |9 3 4\n",
      "9 3 4 |1 6 2 |7 8 5\n",
      "- - -  - - -  - - -\n",
      "5 7 8 |3 9 4 |6 1 2\n",
      "1 2 6 |5 8 7 |4 9 3\n",
      "3 4 9 |2 1 6 |8 5 7\n"
     ]
    }
   ],
   "source": [
    "display_board(board_orig)\n",
    "solve(board)\n",
    "print(\"\\n\\n\")\n",
    "display_board(board)"
   ]
  }
 ],
 "metadata": {
  "kernelspec": {
   "display_name": "Python 3",
   "language": "python",
   "name": "python3"
  },
  "language_info": {
   "codemirror_mode": {
    "name": "ipython",
    "version": 3
   },
   "file_extension": ".py",
   "mimetype": "text/x-python",
   "name": "python",
   "nbconvert_exporter": "python",
   "pygments_lexer": "ipython3",
   "version": "3.7.6"
  }
 },
 "nbformat": 4,
 "nbformat_minor": 4
}
